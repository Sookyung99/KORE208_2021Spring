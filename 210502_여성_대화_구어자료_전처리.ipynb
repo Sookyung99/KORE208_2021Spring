{
  "nbformat": 4,
  "nbformat_minor": 0,
  "metadata": {
    "colab": {
      "name": "210502_여성 대화 구어자료 전처리.ipynb",
      "provenance": [],
      "collapsed_sections": [
        "hFQZlgSmkYTh"
      ],
      "toc_visible": true,
      "authorship_tag": "ABX9TyOCG+ZsBtOuUR5XNyv/IHmZ",
      "include_colab_link": true
    },
    "kernelspec": {
      "name": "python3",
      "display_name": "Python 3"
    },
    "language_info": {
      "name": "python"
    }
  },
  "cells": [
    {
      "cell_type": "markdown",
      "metadata": {
        "id": "view-in-github",
        "colab_type": "text"
      },
      "source": [
        "<a href=\"https://colab.research.google.com/github/Sookyung99/KOR_2021Spring/blob/main/210502_%EC%97%AC%EC%84%B1_%EB%8C%80%ED%99%94_%EA%B5%AC%EC%96%B4%EC%9E%90%EB%A3%8C_%EC%A0%84%EC%B2%98%EB%A6%AC.ipynb\" target=\"_parent\"><img src=\"https://colab.research.google.com/assets/colab-badge.svg\" alt=\"Open In Colab\"/></a>"
      ]
    },
    {
      "cell_type": "markdown",
      "metadata": {
        "id": "do3n_233g5SV"
      },
      "source": [
        "# 한국어정보처리 4조 \n"
      ]
    },
    {
      "cell_type": "markdown",
      "metadata": {
        "id": "hnoGXfQ0Elzf"
      },
      "source": [
        "## **1. 구어**"
      ]
    },
    {
      "cell_type": "markdown",
      "metadata": {
        "id": "hFQZlgSmkYTh"
      },
      "source": [
        "#### 1) 구어 전사자료 전처리\n",
        "UTagger 태깅 후 __02 등의 표시, 문장부호 삭제"
      ]
    },
    {
      "cell_type": "markdown",
      "metadata": {
        "id": "K-9PDcQPMjIc"
      },
      "source": [
        "      import re\n",
        "      text = open(\"_no_number.txt\", 'w')\n",
        "      end = \"\"\" \"\"\"\n",
        "      end = re.sub(\"_|[0-9]|[?]|[+][/]SF\",  \"\", end)\n",
        "      text.write(end)\n",
        "      text.close()"
      ]
    },
    {
      "cell_type": "code",
      "metadata": {
        "id": "TKALRFVTRq10"
      },
      "source": [
        "import re"
      ],
      "execution_count": null,
      "outputs": []
    },
    {
      "cell_type": "markdown",
      "metadata": {
        "id": "A9NoFTJ7S17u"
      },
      "source": [
        "\n",
        "\n",
        "---\n",
        "👇 아래는 예시\n"
      ]
    },
    {
      "cell_type": "code",
      "metadata": {
        "id": "j9Vfj7skT-6J"
      },
      "source": [
        "text = open(\"배주현_화자2end_no_number.txt\", 'w')"
      ],
      "execution_count": null,
      "outputs": []
    },
    {
      "cell_type": "code",
      "metadata": {
        "id": "KytAeZfXSm1p"
      },
      "source": [
        "end = \"\"\"개웃겨 화나는 일 있었어\n",
        "개/XPN+웃기/VV+어/EF 화나/VV+는/ETM 일/NNG 있/VA+었/EP+어/EF\"\"\""
      ],
      "execution_count": null,
      "outputs": []
    },
    {
      "cell_type": "code",
      "metadata": {
        "id": "6FqKtLThSXfj"
      },
      "source": [
        "end = re.sub(\"_|[0-9]|[?]|[+][/]SF\",  \"\", end)"
      ],
      "execution_count": null,
      "outputs": []
    },
    {
      "cell_type": "code",
      "metadata": {
        "id": "Zxi5MYLpV83O"
      },
      "source": [
        "end = re.sub(\"[+][/]SF\", \"\", end)"
      ],
      "execution_count": null,
      "outputs": []
    },
    {
      "cell_type": "code",
      "metadata": {
        "id": "X1OmQ8MqSt38",
        "colab": {
          "base_uri": "https://localhost:8080/"
        },
        "outputId": "f9c82a16-203f-49db-9b62-479d52aaffae"
      },
      "source": [
        "text.write(end)"
      ],
      "execution_count": null,
      "outputs": [
        {
          "output_type": "execute_result",
          "data": {
            "text/plain": [
              "11740"
            ]
          },
          "metadata": {
            "tags": []
          },
          "execution_count": 141
        }
      ]
    },
    {
      "cell_type": "code",
      "metadata": {
        "id": "nuY09QtITUY0"
      },
      "source": [
        "text.close()"
      ],
      "execution_count": null,
      "outputs": []
    },
    {
      "cell_type": "markdown",
      "metadata": {
        "id": "jDhXB9BKhOF7"
      },
      "source": [
        "close까지 해준 뒤 텍스트파일 확인 가능"
      ]
    },
    {
      "cell_type": "markdown",
      "metadata": {
        "id": "hBf0eZgXkQ7s"
      },
      "source": [
        "#### 2) 구어 전사자료 어절 수 세기\n",
        "      text = open(\"___tag_only.txt\", 'r', encoding = 'cp949').read()\n",
        "      list = text.split()\n",
        "      len(list)\n",
        "- 총 어절 수\t7057"
      ]
    },
    {
      "cell_type": "markdown",
      "metadata": {
        "id": "kUatrVzrkhAW"
      },
      "source": [
        "##### (1) 전사자료 -> 문자열 -> 리스트"
      ]
    },
    {
      "cell_type": "code",
      "metadata": {
        "id": "hdvlvmeLkf9K",
        "colab": {
          "base_uri": "https://localhost:8080/",
          "height": 213
        },
        "outputId": "7b1bc6f0-297c-4b69-d604-4d127df570aa"
      },
      "source": [
        "ksk1 = open(\"김수경_화자1end_no_number_tag_only.txt\", 'r', encoding = 'cp949').read()\n",
        "ksk1_l = ksk1.split()\n",
        "len(ksk1_l)"
      ],
      "execution_count": 83,
      "outputs": [
        {
          "output_type": "error",
          "ename": "FileNotFoundError",
          "evalue": "ignored",
          "traceback": [
            "\u001b[0;31m---------------------------------------------------------------------------\u001b[0m",
            "\u001b[0;31mFileNotFoundError\u001b[0m                         Traceback (most recent call last)",
            "\u001b[0;32m<ipython-input-83-1099a3b047ef>\u001b[0m in \u001b[0;36m<module>\u001b[0;34m()\u001b[0m\n\u001b[0;32m----> 1\u001b[0;31m \u001b[0mksk1\u001b[0m \u001b[0;34m=\u001b[0m \u001b[0mopen\u001b[0m\u001b[0;34m(\u001b[0m\u001b[0;34m\"김수경_화자1end_no_number_tag_only.txt\"\u001b[0m\u001b[0;34m,\u001b[0m \u001b[0;34m'r'\u001b[0m\u001b[0;34m,\u001b[0m \u001b[0mencoding\u001b[0m \u001b[0;34m=\u001b[0m \u001b[0;34m'cp949'\u001b[0m\u001b[0;34m)\u001b[0m\u001b[0;34m.\u001b[0m\u001b[0mread\u001b[0m\u001b[0;34m(\u001b[0m\u001b[0;34m)\u001b[0m\u001b[0;34m\u001b[0m\u001b[0;34m\u001b[0m\u001b[0m\n\u001b[0m\u001b[1;32m      2\u001b[0m \u001b[0mksk1_l\u001b[0m \u001b[0;34m=\u001b[0m \u001b[0mksk1\u001b[0m\u001b[0;34m.\u001b[0m\u001b[0msplit\u001b[0m\u001b[0;34m(\u001b[0m\u001b[0;34m)\u001b[0m\u001b[0;34m\u001b[0m\u001b[0;34m\u001b[0m\u001b[0m\n\u001b[1;32m      3\u001b[0m \u001b[0mlen\u001b[0m\u001b[0;34m(\u001b[0m\u001b[0mksk1_l\u001b[0m\u001b[0;34m)\u001b[0m\u001b[0;34m\u001b[0m\u001b[0;34m\u001b[0m\u001b[0m\n",
            "\u001b[0;31mFileNotFoundError\u001b[0m: [Errno 2] No such file or directory: '김수경_화자1end_no_number_tag_only.txt'"
          ]
        }
      ]
    },
    {
      "cell_type": "code",
      "metadata": {
        "colab": {
          "base_uri": "https://localhost:8080/",
          "height": 213
        },
        "id": "Q0pQITTLnKe4",
        "outputId": "2857e18c-e91f-4da7-fd59-8aedc1afbc09"
      },
      "source": [
        "ksk2 = open(\"김수경_화자2end_no_number_tag_only.txt\", 'r', encoding = 'cp949').read()\n",
        "ksk2_l = ksk2.split()\n",
        "len(ksk2_l)"
      ],
      "execution_count": 84,
      "outputs": [
        {
          "output_type": "error",
          "ename": "FileNotFoundError",
          "evalue": "ignored",
          "traceback": [
            "\u001b[0;31m---------------------------------------------------------------------------\u001b[0m",
            "\u001b[0;31mFileNotFoundError\u001b[0m                         Traceback (most recent call last)",
            "\u001b[0;32m<ipython-input-84-9cffd73025a6>\u001b[0m in \u001b[0;36m<module>\u001b[0;34m()\u001b[0m\n\u001b[0;32m----> 1\u001b[0;31m \u001b[0mksk2\u001b[0m \u001b[0;34m=\u001b[0m \u001b[0mopen\u001b[0m\u001b[0;34m(\u001b[0m\u001b[0;34m\"김수경_화자2end_no_number_tag_only.txt\"\u001b[0m\u001b[0;34m,\u001b[0m \u001b[0;34m'r'\u001b[0m\u001b[0;34m,\u001b[0m \u001b[0mencoding\u001b[0m \u001b[0;34m=\u001b[0m \u001b[0;34m'cp949'\u001b[0m\u001b[0;34m)\u001b[0m\u001b[0;34m.\u001b[0m\u001b[0mread\u001b[0m\u001b[0;34m(\u001b[0m\u001b[0;34m)\u001b[0m\u001b[0;34m\u001b[0m\u001b[0;34m\u001b[0m\u001b[0m\n\u001b[0m\u001b[1;32m      2\u001b[0m \u001b[0mksk2_l\u001b[0m \u001b[0;34m=\u001b[0m \u001b[0mksk2\u001b[0m\u001b[0;34m.\u001b[0m\u001b[0msplit\u001b[0m\u001b[0;34m(\u001b[0m\u001b[0;34m)\u001b[0m\u001b[0;34m\u001b[0m\u001b[0;34m\u001b[0m\u001b[0m\n\u001b[1;32m      3\u001b[0m \u001b[0mlen\u001b[0m\u001b[0;34m(\u001b[0m\u001b[0mksk2_l\u001b[0m\u001b[0;34m)\u001b[0m\u001b[0;34m\u001b[0m\u001b[0;34m\u001b[0m\u001b[0m\n",
            "\u001b[0;31mFileNotFoundError\u001b[0m: [Errno 2] No such file or directory: '김수경_화자2end_no_number_tag_only.txt'"
          ]
        }
      ]
    },
    {
      "cell_type": "code",
      "metadata": {
        "id": "q4UOWINNnkyW"
      },
      "source": [
        "kjh1 = open(\"김지혜_화자1end_no_number_tag_only.txt\", 'r', encoding = \"utf-8\").read()\n",
        "kjh1_l = kjh1.split()\n",
        "len(kjh1_l)"
      ],
      "execution_count": null,
      "outputs": []
    },
    {
      "cell_type": "code",
      "metadata": {
        "id": "bN1AaW3bosMc"
      },
      "source": [
        "kjh2 = open(\"김지혜_화자2end_no_number_tag_only.txt\", 'r', encoding = 'cp949').read()\n",
        "kjh2_l = kjh2.split()\n",
        "len(kjh2_l)"
      ],
      "execution_count": null,
      "outputs": []
    },
    {
      "cell_type": "code",
      "metadata": {
        "id": "MrO4Ci6kqmPm"
      },
      "source": [
        "pti1 = open(\"박태익_화자1end_no_number_tag_only.txt\", 'r', encoding = \"cp949\").read()\n",
        "pti1_l = pti1.split()\n",
        "len(pti1_l)"
      ],
      "execution_count": null,
      "outputs": []
    },
    {
      "cell_type": "code",
      "metadata": {
        "id": "xFn9KtL9qv3Q"
      },
      "source": [
        "pti2 = open(\"박태익_화자2end_no_number_tag_only.txt\", 'r', encoding = 'cp949').read()\n",
        "pti2_l = pti2.split()\n",
        "len(pti2_l)"
      ],
      "execution_count": null,
      "outputs": []
    },
    {
      "cell_type": "code",
      "metadata": {
        "id": "w9tOE6XfrAo2"
      },
      "source": [
        "pjh1 = open(\"배주현_화자1end_no_number_tag_only.txt\", 'r', encoding = 'cp949').read()\n",
        "pjh1_l = pjh1.split()\n",
        "len(pjh1_l)"
      ],
      "execution_count": null,
      "outputs": []
    },
    {
      "cell_type": "code",
      "metadata": {
        "id": "UJ873lBkrdja"
      },
      "source": [
        "pjh2 = open(\"배주현_화자2end_no_number_tag_only.txt\", 'r', encoding = 'cp949').read()\n",
        "pjh2_l = pjh2.split()\n",
        "len(pjh2_l)"
      ],
      "execution_count": null,
      "outputs": []
    },
    {
      "cell_type": "code",
      "metadata": {
        "id": "Q2RyrLm7rjIC"
      },
      "source": [
        "osh1 = open(\"오서희_화자1end_no_number_tag_only.txt\", 'r', encoding = 'cp949').read()\n",
        "osh1_l = osh1.split()\n",
        "len(osh1_l)"
      ],
      "execution_count": null,
      "outputs": []
    },
    {
      "cell_type": "code",
      "metadata": {
        "id": "UbwaaIQxrrha"
      },
      "source": [
        "osh2 = open(\"오서희_화자2end_no_number_tag_only.txt\", 'r', encoding = 'cp949').read()\n",
        "osh2_l = osh2.split()\n",
        "len(osh2_l)"
      ],
      "execution_count": null,
      "outputs": []
    },
    {
      "cell_type": "markdown",
      "metadata": {
        "id": "J0ohgc_4EKF-"
      },
      "source": [
        "##### (2) 어절 수 계산"
      ]
    },
    {
      "cell_type": "code",
      "metadata": {
        "id": "YjOJ58HjrvbN"
      },
      "source": [
        "sum = len(ksk1_l) + len(ksk2_l) + len(kjh1_l) + len(kjh2_l) + len(pti1_l) + len(pti2_l) + len(pjh1_l) + len(pjh2_l) + len(osh1_l) + len(osh2_l)"
      ],
      "execution_count": null,
      "outputs": []
    },
    {
      "cell_type": "code",
      "metadata": {
        "id": "gwgtvpFGsjgu"
      },
      "source": [
        "sum"
      ],
      "execution_count": null,
      "outputs": []
    },
    {
      "cell_type": "markdown",
      "metadata": {
        "id": "YggKsv9qEtXh"
      },
      "source": [
        "## **2. 문어**"
      ]
    },
    {
      "cell_type": "markdown",
      "metadata": {
        "id": "4F-cKsJuzfRY"
      },
      "source": [
        "### 1) 문어 칼럼자료 어절 수 세기\n",
        "- 출처: 중앙일보 대학생 칼럼\n",
        "- 기간: 2015.01 - 2017.12 \n",
        "- 총 어절 수: 7190"
      ]
    },
    {
      "cell_type": "markdown",
      "metadata": {
        "id": "mu5JK5TbDv25"
      },
      "source": [
        "#### (1) 칼럼 -> 문자열 -> 리스트"
      ]
    },
    {
      "cell_type": "code",
      "metadata": {
        "id": "hsWWBdGus-7V",
        "outputId": "e57d6f68-4b72-4730-80f7-501e158cf2b7",
        "colab": {
          "base_uri": "https://localhost:8080/"
        }
      },
      "source": [
        "wl1 = open(\"‘밀당’의 고수가 되는 길.txt\", 'r', encoding = 'cp949').read()\n",
        "wl1_l = wl1.split()\n",
        "len(wl1_l)"
      ],
      "execution_count": 2,
      "outputs": [
        {
          "output_type": "execute_result",
          "data": {
            "text/plain": [
              "284"
            ]
          },
          "metadata": {
            "tags": []
          },
          "execution_count": 2
        }
      ]
    },
    {
      "cell_type": "code",
      "metadata": {
        "id": "OVZV3Ghiz2MR",
        "outputId": "ff962a40-5c79-4416-fe1d-ca1f17936222",
        "colab": {
          "base_uri": "https://localhost:8080/"
        }
      },
      "source": [
        "wl2 = open(\"감정노동자를 슬프게 하는 것들.txt\", 'r', encoding = 'cp949').read()\n",
        "wl2_l = wl2.split()\n",
        "len(wl2_l)"
      ],
      "execution_count": 4,
      "outputs": [
        {
          "output_type": "execute_result",
          "data": {
            "text/plain": [
              "274"
            ]
          },
          "metadata": {
            "tags": []
          },
          "execution_count": 4
        }
      ]
    },
    {
      "cell_type": "code",
      "metadata": {
        "id": "RqGoEfrG0Fhz",
        "outputId": "1fa40c49-1191-40b9-f077-d2acff512f45",
        "colab": {
          "base_uri": "https://localhost:8080/"
        }
      },
      "source": [
        "wl3 = open(\"거리의 노년들.txt\", 'r', encoding = 'cp949').read()\n",
        "wl3_l = wl3.split()\n",
        "len(wl3_l)"
      ],
      "execution_count": 6,
      "outputs": [
        {
          "output_type": "execute_result",
          "data": {
            "text/plain": [
              "274"
            ]
          },
          "metadata": {
            "tags": []
          },
          "execution_count": 6
        }
      ]
    },
    {
      "cell_type": "code",
      "metadata": {
        "id": "ckZn2tzj0ZR8",
        "outputId": "773b35ec-b763-4b02-d54a-f07ff72e4283",
        "colab": {
          "base_uri": "https://localhost:8080/"
        }
      },
      "source": [
        "wl4 = open(\"그 아이가 서울대를 자퇴한 이유.txt\", 'r', encoding = 'cp949').read()\n",
        "wl4_l = wl4.split()\n",
        "len(wl4_l)"
      ],
      "execution_count": 9,
      "outputs": [
        {
          "output_type": "execute_result",
          "data": {
            "text/plain": [
              "255"
            ]
          },
          "metadata": {
            "tags": []
          },
          "execution_count": 9
        }
      ]
    },
    {
      "cell_type": "code",
      "metadata": {
        "id": "O_fh4CnL0iMJ",
        "outputId": "f7740b80-2676-4420-c0e1-59646441f4d0",
        "colab": {
          "base_uri": "https://localhost:8080/"
        }
      },
      "source": [
        "wl5 = open(\"나는 조신하지 않다.txt\", 'r', encoding = 'cp949').read()\n",
        "wl5_l = wl5.split()\n",
        "len(wl5_l)"
      ],
      "execution_count": 10,
      "outputs": [
        {
          "output_type": "execute_result",
          "data": {
            "text/plain": [
              "274"
            ]
          },
          "metadata": {
            "tags": []
          },
          "execution_count": 10
        }
      ]
    },
    {
      "cell_type": "code",
      "metadata": {
        "id": "PeTO274m0oU3",
        "outputId": "e2f7fc98-11ad-45bb-9e80-e99b96d2c906",
        "colab": {
          "base_uri": "https://localhost:8080/"
        }
      },
      "source": [
        "wl6 = open(\"당신은 공감할 수 있나요.txt\", 'r', encoding = 'cp949').read()\n",
        "wl6_l = wl6.split()\n",
        "len(wl6_l)"
      ],
      "execution_count": 12,
      "outputs": [
        {
          "output_type": "execute_result",
          "data": {
            "text/plain": [
              "292"
            ]
          },
          "metadata": {
            "tags": []
          },
          "execution_count": 12
        }
      ]
    },
    {
      "cell_type": "code",
      "metadata": {
        "id": "xk-Z9qQ10u2p",
        "outputId": "de2031d5-d12d-46ec-b6b3-b6bfe523426e",
        "colab": {
          "base_uri": "https://localhost:8080/"
        }
      },
      "source": [
        "wl7 = open(\"당신이 베토벤 소나타를 찾는 이유.txt\", 'r', encoding = 'cp949').read()\n",
        "wl7_l = wl7.split()\n",
        "len(wl7_l)"
      ],
      "execution_count": 15,
      "outputs": [
        {
          "output_type": "execute_result",
          "data": {
            "text/plain": [
              "244"
            ]
          },
          "metadata": {
            "tags": []
          },
          "execution_count": 15
        }
      ]
    },
    {
      "cell_type": "code",
      "metadata": {
        "id": "YkXllggU1EbM",
        "outputId": "7cdb7ed7-dcc6-4256-fd40-648bd1971365",
        "colab": {
          "base_uri": "https://localhost:8080/"
        }
      },
      "source": [
        "wl8 = open(\"문화재의 제자리.txt\", 'r', encoding = 'cp949').read()\n",
        "wl8_l = wl8.split()\n",
        "len(wl8_l)"
      ],
      "execution_count": 16,
      "outputs": [
        {
          "output_type": "execute_result",
          "data": {
            "text/plain": [
              "264"
            ]
          },
          "metadata": {
            "tags": []
          },
          "execution_count": 16
        }
      ]
    },
    {
      "cell_type": "code",
      "metadata": {
        "id": "AkzQUI_a1Pyr",
        "outputId": "0fd69dcd-1f6a-4692-ebc0-f4e4262a476b",
        "colab": {
          "base_uri": "https://localhost:8080/"
        }
      },
      "source": [
        "wl9 = open(\"불확실한 미래도 내 것이다.txt\", 'r', encoding = 'cp949').read()\n",
        "wl9_l = wl9.split()\n",
        "len(wl9_l)"
      ],
      "execution_count": 17,
      "outputs": [
        {
          "output_type": "execute_result",
          "data": {
            "text/plain": [
              "302"
            ]
          },
          "metadata": {
            "tags": []
          },
          "execution_count": 17
        }
      ]
    },
    {
      "cell_type": "code",
      "metadata": {
        "id": "rIIIZESj1V49",
        "outputId": "b5cb2e89-fa8c-42e2-fd15-cd3104456543",
        "colab": {
          "base_uri": "https://localhost:8080/"
        }
      },
      "source": [
        "wl10 = open(\"술 한잔할 여유.txt\", 'r', encoding = 'cp949').read()\n",
        "wl10_l = wl10.split()\n",
        "len(wl10_l)"
      ],
      "execution_count": 18,
      "outputs": [
        {
          "output_type": "execute_result",
          "data": {
            "text/plain": [
              "287"
            ]
          },
          "metadata": {
            "tags": []
          },
          "execution_count": 18
        }
      ]
    },
    {
      "cell_type": "code",
      "metadata": {
        "id": "kamkcxQ91c4m",
        "outputId": "dcfd4bb8-abf9-4d54-b13c-f358d87cbe8b",
        "colab": {
          "base_uri": "https://localhost:8080/"
        }
      },
      "source": [
        "wl11 = open(\"시간을 사세요.txt\", 'r', encoding = 'cp949').read()\n",
        "wl11_l = wl11.split()\n",
        "len(wl11_l)"
      ],
      "execution_count": 19,
      "outputs": [
        {
          "output_type": "execute_result",
          "data": {
            "text/plain": [
              "313"
            ]
          },
          "metadata": {
            "tags": []
          },
          "execution_count": 19
        }
      ]
    },
    {
      "cell_type": "code",
      "metadata": {
        "id": "NuyW6BPe1kSZ",
        "outputId": "e8b71222-9068-4c77-8859-2ba45f77fc5a",
        "colab": {
          "base_uri": "https://localhost:8080/"
        }
      },
      "source": [
        "wl12 = open(\"역사와 사극.txt\", 'r', encoding = 'cp949').read()\n",
        "wl12_l = wl12.split()\n",
        "len(wl12_l)"
      ],
      "execution_count": 20,
      "outputs": [
        {
          "output_type": "execute_result",
          "data": {
            "text/plain": [
              "290"
            ]
          },
          "metadata": {
            "tags": []
          },
          "execution_count": 20
        }
      ]
    },
    {
      "cell_type": "code",
      "metadata": {
        "id": "JvTFzseH1r_y",
        "outputId": "01ea81c5-649e-4d9f-8fa0-577dcd46837d",
        "colab": {
          "base_uri": "https://localhost:8080/"
        }
      },
      "source": [
        "wl13 = open(\"우리는 무슨 일을 해야 할까.txt\", 'r', encoding = 'cp949').read()\n",
        "wl13_l = wl13.split()\n",
        "len(wl13_l)"
      ],
      "execution_count": 22,
      "outputs": [
        {
          "output_type": "execute_result",
          "data": {
            "text/plain": [
              "293"
            ]
          },
          "metadata": {
            "tags": []
          },
          "execution_count": 22
        }
      ]
    },
    {
      "cell_type": "code",
      "metadata": {
        "id": "zgE2EVrW15N0",
        "outputId": "d4ee0b2a-a229-484e-8a7d-c3f9313cf2b2",
        "colab": {
          "base_uri": "https://localhost:8080/"
        }
      },
      "source": [
        "wl14 = open(\"응답하라 2015.txt\", 'r', encoding = 'cp949').read()\n",
        "wl14_l = wl14.split()\n",
        "len(wl14_l)"
      ],
      "execution_count": 23,
      "outputs": [
        {
          "output_type": "execute_result",
          "data": {
            "text/plain": [
              "315"
            ]
          },
          "metadata": {
            "tags": []
          },
          "execution_count": 23
        }
      ]
    },
    {
      "cell_type": "code",
      "metadata": {
        "id": "cZOtG-vn2CF-",
        "outputId": "97808755-6c5a-4d6d-c739-c8659ebcc1b6",
        "colab": {
          "base_uri": "https://localhost:8080/"
        }
      },
      "source": [
        "wl15 = open(\"자리를 위한 꼼수.txt\", 'r', encoding = 'cp949').read()\n",
        "wl15_l = wl15.split()\n",
        "len(wl15_l)"
      ],
      "execution_count": 24,
      "outputs": [
        {
          "output_type": "execute_result",
          "data": {
            "text/plain": [
              "281"
            ]
          },
          "metadata": {
            "tags": []
          },
          "execution_count": 24
        }
      ]
    },
    {
      "cell_type": "code",
      "metadata": {
        "id": "YBNLnZuN2Jqz",
        "outputId": "b910e403-b7ef-44c0-b269-34b9cec5b3d7",
        "colab": {
          "base_uri": "https://localhost:8080/"
        }
      },
      "source": [
        "wl16 = open(\"자원봉사의 참뜻.txt\", 'r', encoding = 'cp949').read()\n",
        "wl16_l = wl16.split()\n",
        "len(wl16_l)"
      ],
      "execution_count": 25,
      "outputs": [
        {
          "output_type": "execute_result",
          "data": {
            "text/plain": [
              "268"
            ]
          },
          "metadata": {
            "tags": []
          },
          "execution_count": 25
        }
      ]
    },
    {
      "cell_type": "code",
      "metadata": {
        "id": "SgpbRANh2RMD",
        "outputId": "dc6ecf1d-74ad-4ccd-85ca-d7198c8fc38e",
        "colab": {
          "base_uri": "https://localhost:8080/"
        }
      },
      "source": [
        "wl17 = open(\"취업지원금으로 제가 한턱 냅니다.txt\", 'r', encoding = 'cp949').read()\n",
        "wl17_l = wl17.split()\n",
        "len(wl17_l)"
      ],
      "execution_count": 26,
      "outputs": [
        {
          "output_type": "execute_result",
          "data": {
            "text/plain": [
              "258"
            ]
          },
          "metadata": {
            "tags": []
          },
          "execution_count": 26
        }
      ]
    },
    {
      "cell_type": "code",
      "metadata": {
        "id": "WHNOkgK82Yfd",
        "outputId": "0a9e59eb-063c-477a-a94d-f6e81275481a",
        "colab": {
          "base_uri": "https://localhost:8080/"
        }
      },
      "source": [
        "wl18 = open(\"헝가리에서 만난 시리아 난민들.txt\", 'r', encoding = 'cp949').read()\n",
        "wl18_l = wl18.split()\n",
        "len(wl18_l)"
      ],
      "execution_count": 27,
      "outputs": [
        {
          "output_type": "execute_result",
          "data": {
            "text/plain": [
              "267"
            ]
          },
          "metadata": {
            "tags": []
          },
          "execution_count": 27
        }
      ]
    },
    {
      "cell_type": "code",
      "metadata": {
        "id": "3edntM1F8W0-",
        "outputId": "87b480ca-7998-4797-b1d1-29fe0446b623",
        "colab": {
          "base_uri": "https://localhost:8080/"
        }
      },
      "source": [
        "wl19 = open(\"‘아 몰랑’ 역사인식 … 부끄러운 광복 70년.txt\", 'r', encoding = 'cp949').read()\n",
        "wl19_l = wl19.split()\n",
        "len(wl19_l)"
      ],
      "execution_count": 49,
      "outputs": [
        {
          "output_type": "execute_result",
          "data": {
            "text/plain": [
              "314"
            ]
          },
          "metadata": {
            "tags": []
          },
          "execution_count": 49
        }
      ]
    },
    {
      "cell_type": "code",
      "metadata": {
        "id": "gd9yA5_F-zcq",
        "outputId": "e7ee3fe5-57d0-46b9-d9f8-7b07f985fb61",
        "colab": {
          "base_uri": "https://localhost:8080/"
        }
      },
      "source": [
        "wl20 = open(\"‘잔혹 동시’와 잔혹한 현실.txt\", 'r', encoding = 'cp949').read()\n",
        "wl20_l = wl20.split()\n",
        "len(wl20_l)"
      ],
      "execution_count": 55,
      "outputs": [
        {
          "output_type": "execute_result",
          "data": {
            "text/plain": [
              "302"
            ]
          },
          "metadata": {
            "tags": []
          },
          "execution_count": 55
        }
      ]
    },
    {
      "cell_type": "code",
      "metadata": {
        "id": "BDcW2XHQ-zY7",
        "outputId": "e5ef81ca-9bae-45d7-d56d-277a31d9b8ba",
        "colab": {
          "base_uri": "https://localhost:8080/"
        }
      },
      "source": [
        "wl21 = open(\"청년들이여 '돈, 돈, 돈' 해라!.txt\", 'r', encoding = 'cp949').read()\n",
        "wl21_l = wl21.split()\n",
        "len(wl21_l)"
      ],
      "execution_count": 54,
      "outputs": [
        {
          "output_type": "execute_result",
          "data": {
            "text/plain": [
              "328"
            ]
          },
          "metadata": {
            "tags": []
          },
          "execution_count": 54
        }
      ]
    },
    {
      "cell_type": "code",
      "metadata": {
        "id": "xZWSW9KS-zRt",
        "outputId": "6d692056-1014-489d-9ba9-b98df4bdc086",
        "colab": {
          "base_uri": "https://localhost:8080/"
        }
      },
      "source": [
        "wl22 = open(\"학생 선택의 폭을 오히려 줄이는 대학 개혁.txt\", 'r', encoding = 'cp949').read()\n",
        "wl22_l = wl22.split()\n",
        "len(wl22_l)"
      ],
      "execution_count": 57,
      "outputs": [
        {
          "output_type": "execute_result",
          "data": {
            "text/plain": [
              "302"
            ]
          },
          "metadata": {
            "tags": []
          },
          "execution_count": 57
        }
      ]
    },
    {
      "cell_type": "code",
      "metadata": {
        "id": "MMXR_PGJ_3AK",
        "outputId": "3403cbad-0c97-4a18-ee3a-d94f2ba931bc",
        "colab": {
          "base_uri": "https://localhost:8080/"
        }
      },
      "source": [
        "wl23 = open(\"임대아파트에 사는 내 어린 동생 이야기.txt\", 'r', encoding = 'cp949').read()\n",
        "wl23_l = wl23.split()\n",
        "len(wl23_l)"
      ],
      "execution_count": 58,
      "outputs": [
        {
          "output_type": "execute_result",
          "data": {
            "text/plain": [
              "292"
            ]
          },
          "metadata": {
            "tags": []
          },
          "execution_count": 58
        }
      ]
    },
    {
      "cell_type": "code",
      "metadata": {
        "id": "KWZjlaSVA4RJ",
        "outputId": "84e84db1-58de-4d70-cc69-e1ac7ab13148",
        "colab": {
          "base_uri": "https://localhost:8080/"
        }
      },
      "source": [
        "wl24 = open(\"그래도 청춘은 괜찮다.txt\", 'r', encoding = 'cp949').read()\n",
        "wl24_l = wl24.split()\n",
        "len(wl24_l)"
      ],
      "execution_count": 62,
      "outputs": [
        {
          "output_type": "execute_result",
          "data": {
            "text/plain": [
              "321"
            ]
          },
          "metadata": {
            "tags": []
          },
          "execution_count": 62
        }
      ]
    },
    {
      "cell_type": "code",
      "metadata": {
        "id": "sZsHF-1rA4Fj",
        "outputId": "d6dca112-8685-416e-92f0-fab431dd4500",
        "colab": {
          "base_uri": "https://localhost:8080/"
        }
      },
      "source": [
        "wl25 = open(\"나는 노땅 대학생이다.txt\", 'r', encoding = 'cp949').read()\n",
        "wl25_l = wl25.split()\n",
        "len(wl25_l)"
      ],
      "execution_count": 64,
      "outputs": [
        {
          "output_type": "execute_result",
          "data": {
            "text/plain": [
              "296"
            ]
          },
          "metadata": {
            "tags": []
          },
          "execution_count": 64
        }
      ]
    },
    {
      "cell_type": "markdown",
      "metadata": {
        "id": "sX3j-tHPD4B-"
      },
      "source": [
        "#### (2) 어절 수 계산"
      ]
    },
    {
      "cell_type": "code",
      "metadata": {
        "id": "G5LqmCTF9tBE"
      },
      "source": [
        "wls = [wl1_l, wl2_l, wl3_l, wl4_l, wl5_l, wl6_l, wl7_l, wl8_l, wl9_l, \n",
        "       wl10_l, wl11_l, wl12_l, wl13_l, wl14_l, wl15_l, wl16_l, wl17_l, wl18_l, wl19_l,\n",
        "       wl20_l, wl21_l, wl22_l, wl23_l, wl24_l, wl25_l]"
      ],
      "execution_count": 81,
      "outputs": []
    },
    {
      "cell_type": "code",
      "metadata": {
        "id": "sizpWYfH8KG-",
        "outputId": "9113f39a-e0a3-4b91-cb30-d6d621be0c15",
        "colab": {
          "base_uri": "https://localhost:8080/"
        }
      },
      "source": [
        "sum = 0\n",
        "for i in wls:\n",
        "  sum += len(i)\n",
        "sum"
      ],
      "execution_count": 82,
      "outputs": [
        {
          "output_type": "execute_result",
          "data": {
            "text/plain": [
              "7190"
            ]
          },
          "metadata": {
            "tags": []
          },
          "execution_count": 82
        }
      ]
    },
    {
      "cell_type": "code",
      "metadata": {
        "id": "TicgK0Qi8hd7"
      },
      "source": [
        ""
      ],
      "execution_count": null,
      "outputs": []
    }
  ]
}