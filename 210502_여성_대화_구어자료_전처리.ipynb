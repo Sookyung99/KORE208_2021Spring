{
  "nbformat": 4,
  "nbformat_minor": 0,
  "metadata": {
    "colab": {
      "name": "210502_여성 대화 구어자료 전처리.ipynb",
      "provenance": [],
      "collapsed_sections": [
        "hFQZlgSmkYTh"
      ],
      "authorship_tag": "ABX9TyP7Zv2nVTUuzXwE+xo4hkp/",
      "include_colab_link": true
    },
    "kernelspec": {
      "name": "python3",
      "display_name": "Python 3"
    },
    "language_info": {
      "name": "python"
    }
  },
  "cells": [
    {
      "cell_type": "markdown",
      "metadata": {
        "id": "view-in-github",
        "colab_type": "text"
      },
      "source": [
        "<a href=\"https://colab.research.google.com/github/Sookyung99/KOR_2021Spring/blob/main/210502_%EC%97%AC%EC%84%B1_%EB%8C%80%ED%99%94_%EA%B5%AC%EC%96%B4%EC%9E%90%EB%A3%8C_%EC%A0%84%EC%B2%98%EB%A6%AC.ipynb\" target=\"_parent\"><img src=\"https://colab.research.google.com/assets/colab-badge.svg\" alt=\"Open In Colab\"/></a>"
      ]
    },
    {
      "cell_type": "markdown",
      "metadata": {
        "id": "do3n_233g5SV"
      },
      "source": [
        "# 한국어정보처리 4조 \n"
      ]
    },
    {
      "cell_type": "markdown",
      "metadata": {
        "id": "hFQZlgSmkYTh"
      },
      "source": [
        "## 구어 전사자료 전처리\n",
        "UTagger 태깅 후 __02 등의 표시, 문장부호 삭제"
      ]
    },
    {
      "cell_type": "markdown",
      "metadata": {
        "id": "K-9PDcQPMjIc"
      },
      "source": [
        "      import re\n",
        "      text = open(\"_no_number.txt\", 'w')\n",
        "      end = \"\"\" \"\"\"\n",
        "      end = re.sub(\"_|[0-9]|[?]|[+][/]SF\",  \"\", end)\n",
        "      text.write(end)\n",
        "      text.close()"
      ]
    },
    {
      "cell_type": "code",
      "metadata": {
        "id": "TKALRFVTRq10"
      },
      "source": [
        "import re"
      ],
      "execution_count": null,
      "outputs": []
    },
    {
      "cell_type": "markdown",
      "metadata": {
        "id": "A9NoFTJ7S17u"
      },
      "source": [
        "\n",
        "\n",
        "---\n",
        "👇 아래는 예시\n"
      ]
    },
    {
      "cell_type": "code",
      "metadata": {
        "id": "j9Vfj7skT-6J"
      },
      "source": [
        "text = open(\"배주현_화자2end_no_number.txt\", 'w')"
      ],
      "execution_count": null,
      "outputs": []
    },
    {
      "cell_type": "code",
      "metadata": {
        "id": "KytAeZfXSm1p"
      },
      "source": [
        "end = \"\"\"개웃겨 화나는 일 있었어\n",
        "개/XPN+웃기/VV+어/EF 화나/VV+는/ETM 일/NNG 있/VA+었/EP+어/EF\"\"\""
      ],
      "execution_count": 29,
      "outputs": []
    },
    {
      "cell_type": "code",
      "metadata": {
        "id": "6FqKtLThSXfj"
      },
      "source": [
        "end = re.sub(\"_|[0-9]|[?]|[+][/]SF\",  \"\", end)"
      ],
      "execution_count": null,
      "outputs": []
    },
    {
      "cell_type": "code",
      "metadata": {
        "id": "Zxi5MYLpV83O"
      },
      "source": [
        "end = re.sub(\"[+][/]SF\", \"\", end)"
      ],
      "execution_count": null,
      "outputs": []
    },
    {
      "cell_type": "code",
      "metadata": {
        "id": "X1OmQ8MqSt38",
        "colab": {
          "base_uri": "https://localhost:8080/"
        },
        "outputId": "f9c82a16-203f-49db-9b62-479d52aaffae"
      },
      "source": [
        "text.write(end)"
      ],
      "execution_count": null,
      "outputs": [
        {
          "output_type": "execute_result",
          "data": {
            "text/plain": [
              "11740"
            ]
          },
          "metadata": {
            "tags": []
          },
          "execution_count": 141
        }
      ]
    },
    {
      "cell_type": "code",
      "metadata": {
        "id": "nuY09QtITUY0"
      },
      "source": [
        "text.close()"
      ],
      "execution_count": null,
      "outputs": []
    },
    {
      "cell_type": "markdown",
      "metadata": {
        "id": "jDhXB9BKhOF7"
      },
      "source": [
        "close까지 해준 뒤 텍스트파일 확인 가능"
      ]
    },
    {
      "cell_type": "markdown",
      "metadata": {
        "id": "hBf0eZgXkQ7s"
      },
      "source": [
        "## 구어 전사자료 어절 수 세기\n",
        "      text = open(\"___tag_only.txt\", 'r', encoding = 'cp949').read()\n",
        "      list = text.split()\n",
        "      len(list)"
      ]
    },
    {
      "cell_type": "markdown",
      "metadata": {
        "id": "kUatrVzrkhAW"
      },
      "source": [
        "김수경 화자 1: 573 <br>\n",
        "김수경 화자 2: 760\n"
      ]
    },
    {
      "cell_type": "code",
      "metadata": {
        "id": "hdvlvmeLkf9K",
        "colab": {
          "base_uri": "https://localhost:8080/"
        },
        "outputId": "26ea3c4e-3879-4daa-8a3a-4412ad28ab23"
      },
      "source": [
        "ksk1 = open(\"김수경_화자1end_no_number_tag_only.txt\", 'r', encoding = 'cp949').read()\n",
        "ksk1_l = ksk1.split()\n",
        "len(ksk1_l)"
      ],
      "execution_count": 24,
      "outputs": [
        {
          "output_type": "execute_result",
          "data": {
            "text/plain": [
              "573"
            ]
          },
          "metadata": {
            "tags": []
          },
          "execution_count": 24
        }
      ]
    },
    {
      "cell_type": "code",
      "metadata": {
        "colab": {
          "base_uri": "https://localhost:8080/"
        },
        "id": "Q0pQITTLnKe4",
        "outputId": "5647574a-3c41-4f6a-a843-f8ff4d53eb82"
      },
      "source": [
        "ksk2 = open(\"김수경_화자2end_no_number_tag_only.txt\", 'r', encoding = 'cp949').read()\n",
        "ksk2_l = ksk2.split()\n",
        "len(ksk2_l)"
      ],
      "execution_count": 11,
      "outputs": [
        {
          "output_type": "execute_result",
          "data": {
            "text/plain": [
              "760"
            ]
          },
          "metadata": {
            "tags": []
          },
          "execution_count": 11
        }
      ]
    },
    {
      "cell_type": "code",
      "metadata": {
        "colab": {
          "base_uri": "https://localhost:8080/"
        },
        "id": "q4UOWINNnkyW",
        "outputId": "9b5dbe61-3ad6-43cd-decc-a97585eb9271"
      },
      "source": [
        "kjh1 = open(\"김지혜_화자1end_no_number_tag_only.txt\", 'r', encoding = \"utf-8\").read()\n",
        "kjh1_l = kjh1.split()\n",
        "len(kjh1_l)"
      ],
      "execution_count": 12,
      "outputs": [
        {
          "output_type": "execute_result",
          "data": {
            "text/plain": [
              "755"
            ]
          },
          "metadata": {
            "tags": []
          },
          "execution_count": 12
        }
      ]
    },
    {
      "cell_type": "code",
      "metadata": {
        "colab": {
          "base_uri": "https://localhost:8080/"
        },
        "id": "bN1AaW3bosMc",
        "outputId": "67175994-0670-446e-98b8-87898996b940"
      },
      "source": [
        "kjh2 = open(\"김지혜_화자2end_no_number_tag_only.txt\", 'r', encoding = 'cp949').read()\n",
        "kjh2_l = kjh2.split()\n",
        "len(kjh2_l)"
      ],
      "execution_count": 13,
      "outputs": [
        {
          "output_type": "execute_result",
          "data": {
            "text/plain": [
              "659"
            ]
          },
          "metadata": {
            "tags": []
          },
          "execution_count": 13
        }
      ]
    },
    {
      "cell_type": "code",
      "metadata": {
        "colab": {
          "base_uri": "https://localhost:8080/"
        },
        "id": "MrO4Ci6kqmPm",
        "outputId": "29c033ad-bd3b-4f3b-9921-21199cd81912"
      },
      "source": [
        "pti1 = open(\"박태익_화자1end_no_number_tag_only.txt\", 'r', encoding = \"cp949\").read()\n",
        "pti1_l = pti1.split()\n",
        "len(pti1_l)"
      ],
      "execution_count": 14,
      "outputs": [
        {
          "output_type": "execute_result",
          "data": {
            "text/plain": [
              "942"
            ]
          },
          "metadata": {
            "tags": []
          },
          "execution_count": 14
        }
      ]
    },
    {
      "cell_type": "code",
      "metadata": {
        "colab": {
          "base_uri": "https://localhost:8080/"
        },
        "id": "xFn9KtL9qv3Q",
        "outputId": "c9710ca9-adce-4c88-ba59-0650037db3ae"
      },
      "source": [
        "pti2 = open(\"박태익_화자2end_no_number_tag_only.txt\", 'r', encoding = 'cp949').read()\n",
        "pti2_l = pti2.split()\n",
        "len(pti2_l)"
      ],
      "execution_count": 15,
      "outputs": [
        {
          "output_type": "execute_result",
          "data": {
            "text/plain": [
              "601"
            ]
          },
          "metadata": {
            "tags": []
          },
          "execution_count": 15
        }
      ]
    },
    {
      "cell_type": "code",
      "metadata": {
        "colab": {
          "base_uri": "https://localhost:8080/"
        },
        "id": "w9tOE6XfrAo2",
        "outputId": "b6e6d55f-0103-420b-aa2b-9df08f5da3c9"
      },
      "source": [
        "pjh1 = open(\"배주현_화자1end_no_number_tag_only.txt\", 'r', encoding = 'cp949').read()\n",
        "pjh1_l = pjh1.split()\n",
        "len(pjh1_l)"
      ],
      "execution_count": 17,
      "outputs": [
        {
          "output_type": "execute_result",
          "data": {
            "text/plain": [
              "643"
            ]
          },
          "metadata": {
            "tags": []
          },
          "execution_count": 17
        }
      ]
    },
    {
      "cell_type": "code",
      "metadata": {
        "colab": {
          "base_uri": "https://localhost:8080/"
        },
        "id": "UJ873lBkrdja",
        "outputId": "8553d4a8-14fb-4c11-8e09-92a0fac45e37"
      },
      "source": [
        "pjh2 = open(\"배주현_화자2end_no_number_tag_only.txt\", 'r', encoding = 'cp949').read()\n",
        "pjh2_l = pjh2.split()\n",
        "len(pjh2_l)"
      ],
      "execution_count": 18,
      "outputs": [
        {
          "output_type": "execute_result",
          "data": {
            "text/plain": [
              "864"
            ]
          },
          "metadata": {
            "tags": []
          },
          "execution_count": 18
        }
      ]
    },
    {
      "cell_type": "code",
      "metadata": {
        "colab": {
          "base_uri": "https://localhost:8080/"
        },
        "id": "Q2RyrLm7rjIC",
        "outputId": "ce8c3246-0653-4820-ace9-0be798ec1183"
      },
      "source": [
        "osh1 = open(\"오서희_화자1end_no_number_tag_only.txt\", 'r', encoding = 'cp949').read()\n",
        "osh1_l = osh1.split()\n",
        "len(osh1_l)"
      ],
      "execution_count": 19,
      "outputs": [
        {
          "output_type": "execute_result",
          "data": {
            "text/plain": [
              "635"
            ]
          },
          "metadata": {
            "tags": []
          },
          "execution_count": 19
        }
      ]
    },
    {
      "cell_type": "code",
      "metadata": {
        "colab": {
          "base_uri": "https://localhost:8080/"
        },
        "id": "UbwaaIQxrrha",
        "outputId": "a3bb1dbf-e990-46f8-b575-69454e60f8c8"
      },
      "source": [
        "osh2 = open(\"오서희_화자2end_no_number_tag_only.txt\", 'r', encoding = 'cp949').read()\n",
        "osh2_l = osh2.split()\n",
        "len(osh2_l)"
      ],
      "execution_count": 20,
      "outputs": [
        {
          "output_type": "execute_result",
          "data": {
            "text/plain": [
              "625"
            ]
          },
          "metadata": {
            "tags": []
          },
          "execution_count": 20
        }
      ]
    },
    {
      "cell_type": "code",
      "metadata": {
        "id": "YjOJ58HjrvbN"
      },
      "source": [
        "sum = len(ksk1_l) + len(ksk2_l) + len(kjh1_l) + len(kjh2_l) + len(pti1_l) + len(pti2_l) + len(pjh1_l) + len(pjh2_l) + len(osh1_l) + len(osh2_l)"
      ],
      "execution_count": 27,
      "outputs": []
    },
    {
      "cell_type": "code",
      "metadata": {
        "colab": {
          "base_uri": "https://localhost:8080/"
        },
        "id": "gwgtvpFGsjgu",
        "outputId": "5b31dbd2-1c07-408e-ba9c-5dfea47e4966"
      },
      "source": [
        "sum"
      ],
      "execution_count": 28,
      "outputs": [
        {
          "output_type": "execute_result",
          "data": {
            "text/plain": [
              "7057"
            ]
          },
          "metadata": {
            "tags": []
          },
          "execution_count": 28
        }
      ]
    },
    {
      "cell_type": "code",
      "metadata": {
        "id": "hsWWBdGus-7V"
      },
      "source": [
        ""
      ],
      "execution_count": null,
      "outputs": []
    }
  ]
}